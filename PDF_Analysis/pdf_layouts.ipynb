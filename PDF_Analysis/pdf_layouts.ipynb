{
 "cells": [
  {
   "cell_type": "markdown",
   "metadata": {},
   "source": [
    "# Detect Pdf layouts"
   ]
  },
  {
   "cell_type": "markdown",
   "metadata": {},
   "source": [
    "###  1 Pdf to Images"
   ]
  },
  {
   "cell_type": "code",
   "execution_count": 1,
   "metadata": {},
   "outputs": [],
   "source": [
    "from pdf2image import convert_from_path\n",
    "import cv2"
   ]
  },
  {
   "cell_type": "code",
   "execution_count": 2,
   "metadata": {},
   "outputs": [],
   "source": [
    "poppler_path = r\"C:\\Program Files\\poppler-22.04.0\\Library\\bin\""
   ]
  },
  {
   "cell_type": "code",
   "execution_count": 3,
   "metadata": {},
   "outputs": [],
   "source": [
    "images = convert_from_path('relevedecompte.pdf', poppler_path=poppler_path)"
   ]
  },
  {
   "cell_type": "code",
   "execution_count": 4,
   "metadata": {},
   "outputs": [],
   "source": [
    "for i in range(len(images)):\n",
    "    \n",
    "    images[i].save('pages/page'+str(i)+'.jpg', 'JPEG')"
   ]
  },
  {
   "cell_type": "markdown",
   "metadata": {},
   "source": [
    "### 2 extract pdf layout "
   ]
  },
  {
   "cell_type": "code",
   "execution_count": 5,
   "metadata": {},
   "outputs": [],
   "source": [
    "import layoutparser as lp\n",
    "import numpy as np\n",
    "from PIL import Image"
   ]
  },
  {
   "cell_type": "code",
   "execution_count": 6,
   "metadata": {},
   "outputs": [],
   "source": [
    "image_path = 'pages/page0.jpg'\n",
    "image = cv2.imread(image_path)"
   ]
  },
  {
   "cell_type": "markdown",
   "metadata": {},
   "source": [
    "### model with publaynet dataset"
   ]
  },
  {
   "cell_type": "code",
   "execution_count": 7,
   "metadata": {},
   "outputs": [],
   "source": [
    "model = lp.PaddleDetectionLayoutModel(config_path=\"lp://PubLayNet/ppyolov2_r50vd_dcn_365e_publaynet/config\",\n",
    "                                threshold=0.20,\n",
    "                                label_map={0: \"Text\", 1: \"Title\", 2: \"List\", 3:\"Table\", 4:\"Figure\"},\n",
    "                                enforce_cpu=False,\n",
    "                                enable_mkldnn=True)"
   ]
  },
  {
   "cell_type": "code",
   "execution_count": 8,
   "metadata": {},
   "outputs": [
    {
     "name": "stdout",
     "output_type": "stream",
     "text": [
      "Layout(_blocks=[TextBlock(block=Rectangle(x_1=79.516845703125, y_1=1366.831298828125, x_2=1578.6143798828125, y_2=2160.018798828125), text=None, id=None, type=Table, parent=None, next=None, score=0.9422100782394409), TextBlock(block=Rectangle(x_1=85.61798095703125, y_1=2114.412353515625, x_2=1116.262939453125, y_2=2159.010498046875), text=None, id=None, type=Text, parent=None, next=None, score=0.8313506245613098), TextBlock(block=Rectangle(x_1=74.46974182128906, y_1=1317.26611328125, x_2=472.6107177734375, y_2=1360.0478515625), text=None, id=None, type=Text, parent=None, next=None, score=0.8205502033233643), TextBlock(block=Rectangle(x_1=80.30029296875, y_1=1178.50390625, x_2=1428.054443359375, y_2=1250.24169921875), text=None, id=None, type=Text, parent=None, next=None, score=0.6170427203178406), TextBlock(block=Rectangle(x_1=74.70989990234375, y_1=206.97821044921875, x_2=1507.751708984375, y_2=1112.60693359375), text=None, id=None, type=Figure, parent=None, next=None, score=0.5726488828659058), TextBlock(block=Rectangle(x_1=88.42626953125, y_1=1172.2969970703125, x_2=352.9169921875, y_2=1215.3116455078125), text=None, id=None, type=Title, parent=None, next=None, score=0.5067108273506165), TextBlock(block=Rectangle(x_1=78.26737976074219, y_1=220.74014282226562, x_2=319.15582275390625, y_2=258.7115173339844), text=None, id=None, type=Title, parent=None, next=None, score=0.45922237634658813), TextBlock(block=Rectangle(x_1=77.39373779296875, y_1=802.718017578125, x_2=120.99606323242188, y_2=830.08056640625), text=None, id=None, type=Text, parent=None, next=None, score=0.39445459842681885), TextBlock(block=Rectangle(x_1=75.80487060546875, y_1=286.05072021484375, x_2=502.17236328125, y_2=493.471435546875), text=None, id=None, type=Text, parent=None, next=None, score=0.38983097672462463), TextBlock(block=Rectangle(x_1=76.72006225585938, y_1=526.200439453125, x_2=499.0183410644531, y_2=605.2894287109375), text=None, id=None, type=Text, parent=None, next=None, score=0.3817306458950043), TextBlock(block=Rectangle(x_1=1095.8428955078125, y_1=1334.0677490234375, x_2=1577.5394287109375, y_2=1358.5989990234375), text=None, id=None, type=Text, parent=None, next=None, score=0.2834482491016388), TextBlock(block=Rectangle(x_1=77.86698913574219, y_1=509.6292419433594, x_2=384.99029541015625, y_2=539.9229125976562), text=None, id=None, type=Text, parent=None, next=None, score=0.2726479172706604), TextBlock(block=Rectangle(x_1=75.3612060546875, y_1=689.9567260742188, x_2=416.47747802734375, y_2=786.6275024414062), text=None, id=None, type=Text, parent=None, next=None, score=0.24271167814731598), TextBlock(block=Rectangle(x_1=360.43963623046875, y_1=901.1887817382812, x_2=1288.707275390625, y_2=1084.810791015625), text=None, id=None, type=Figure, parent=None, next=None, score=0.23415939509868622), TextBlock(block=Rectangle(x_1=80.79566955566406, y_1=467.97454833984375, x_2=267.39166259765625, y_2=494.56842041015625), text=None, id=None, type=Text, parent=None, next=None, score=0.22479765117168427), TextBlock(block=Rectangle(x_1=941.2325439453125, y_1=506.89617919921875, x_2=1238.6673583984375, y_2=593.8290405273438), text=None, id=None, type=List, parent=None, next=None, score=0.20381741225719452), TextBlock(block=Rectangle(x_1=78.35917663574219, y_1=614.8450927734375, x_2=376.797119140625, y_2=675.1444091796875), text=None, id=None, type=Text, parent=None, next=None, score=0.2032701075077057)], page_data={})\n"
     ]
    },
    {
     "data": {
      "text/plain": [
       "True"
      ]
     },
     "execution_count": 8,
     "metadata": {},
     "output_type": "execute_result"
    }
   ],
   "source": [
    "layout1 = model.detect(image)\n",
    "print(layout1)\n",
    "\n",
    "image_with_boxes = lp.draw_box(image, layout1, box_width=3)\n",
    "\n",
    "image_with_boxes_bgr = cv2.cvtColor(np.array(image_with_boxes), cv2.COLOR_RGB2BGR)\n",
    "\n",
    "cv2.imwrite('layout_result.jpg', image_with_boxes_bgr)"
   ]
  },
  {
   "cell_type": "markdown",
   "metadata": {},
   "source": [
    "### test with the tablebank dataset"
   ]
  },
  {
   "cell_type": "code",
   "execution_count": 9,
   "metadata": {},
   "outputs": [],
   "source": [
    "model2 = lp.PaddleDetectionLayoutModel(config_path=\"lp://TableBank/ppyolov2_r50vd_dcn_365e_tableBank_latex/config\",\n",
    "                                threshold=0.2,\n",
    "                                label_map={0: \"Text\", 1: \"Title\", 2: \"List\", 3:\"Table\", 4:\"Figure\"},\n",
    "                                enforce_cpu=False,\n",
    "                                enable_mkldnn=True)"
   ]
  },
  {
   "cell_type": "code",
   "execution_count": 10,
   "metadata": {},
   "outputs": [
    {
     "name": "stdout",
     "output_type": "stream",
     "text": [
      "Layout(_blocks=[TextBlock(block=Rectangle(x_1=269.1351318359375, y_1=875.8480834960938, x_2=1386.025390625, y_2=1111.2939453125), text=None, id=None, type=Text, parent=None, next=None, score=0.8451780676841736), TextBlock(block=Rectangle(x_1=73.22955322265625, y_1=1359.31396484375, x_2=1580.960205078125, y_2=2090.005126953125), text=None, id=None, type=Text, parent=None, next=None, score=0.7878875732421875)], page_data={})\n"
     ]
    },
    {
     "data": {
      "text/plain": [
       "True"
      ]
     },
     "execution_count": 10,
     "metadata": {},
     "output_type": "execute_result"
    }
   ],
   "source": [
    "layout2 = model2.detect(image)\n",
    "\n",
    "image_with_boxes = lp.draw_box(image, layout2, box_width=3)\n",
    "image_with_boxes_bgr = cv2.cvtColor(np.array(image_with_boxes), cv2.COLOR_RGB2BGR)\n",
    "\n",
    "print(layout2)\n",
    "cv2.imwrite('Layout_Result2.jpg', image_with_boxes_bgr)"
   ]
  },
  {
   "cell_type": "markdown",
   "metadata": {},
   "source": [
    "### Text Detection and Recognition from tables"
   ]
  },
  {
   "cell_type": "markdown",
   "metadata": {},
   "source": [
    "### extract text "
   ]
  },
  {
   "cell_type": "code",
   "execution_count": 4,
   "metadata": {},
   "outputs": [
    {
     "ename": "NameError",
     "evalue": "name 'layout1' is not defined",
     "output_type": "error",
     "traceback": [
      "\u001b[1;31m---------------------------------------------------------------------------\u001b[0m",
      "\u001b[1;31mNameError\u001b[0m                                 Traceback (most recent call last)",
      "Cell \u001b[1;32mIn[4], line 1\u001b[0m\n\u001b[1;32m----> 1\u001b[0m text_blocks_excluding_tables \u001b[38;5;241m=\u001b[39m [block \u001b[38;5;28;01mfor\u001b[39;00m block \u001b[38;5;129;01min\u001b[39;00m layout1\u001b[38;5;241m.\u001b[39m_blocks \u001b[38;5;28;01mif\u001b[39;00m block\u001b[38;5;241m.\u001b[39mtype \u001b[38;5;241m!=\u001b[39m \u001b[38;5;124m'\u001b[39m\u001b[38;5;124mTable\u001b[39m\u001b[38;5;124m'\u001b[39m]\n\u001b[0;32m      2\u001b[0m extracted_text \u001b[38;5;241m=\u001b[39m \u001b[38;5;124m'\u001b[39m\u001b[38;5;124m \u001b[39m\u001b[38;5;124m'\u001b[39m\u001b[38;5;241m.\u001b[39mjoin([block\u001b[38;5;241m.\u001b[39mtext \u001b[38;5;28;01mfor\u001b[39;00m block \u001b[38;5;129;01min\u001b[39;00m text_blocks_excluding_tables \u001b[38;5;28;01mif\u001b[39;00m block\u001b[38;5;241m.\u001b[39mtext])\n",
      "\u001b[1;31mNameError\u001b[0m: name 'layout1' is not defined"
     ]
    }
   ],
   "source": [
    "text_blocks_excluding_tables = [block for block in layout1._blocks if block.type != 'Table']\n",
    "extracted_text = ' '.join([block.text for block in text_blocks_excluding_tables if block.text])"
   ]
  },
  {
   "cell_type": "code",
   "execution_count": null,
   "metadata": {},
   "outputs": [],
   "source": [
    "organized_text = extracted_text.replace('\\n', ' ')\n",
    "\n",
    "output_file_path = 'textbrut1.0.txt'\n",
    "with open(output_file_path, 'w', encoding='utf-8') as file:\n",
    "    file.write(organized_text)"
   ]
  },
  {
   "cell_type": "markdown",
   "metadata": {},
   "source": [
    "#### extract table "
   ]
  },
  {
   "cell_type": "code",
   "execution_count": 11,
   "metadata": {},
   "outputs": [
    {
     "name": "stdout",
     "output_type": "stream",
     "text": [
      "TextBlock(block=Rectangle(x_1=79.516845703125, y_1=1366.831298828125, x_2=1578.6143798828125, y_2=2160.018798828125), text=None, id=None, type=Table, parent=None, next=None, score=0.9422100782394409)\n",
      "79.516846\n"
     ]
    }
   ],
   "source": [
    "for l in layout1:\n",
    "  print(l)\n",
    "  if l.type == 'Table':\n",
    "    x_1 = int(l.block.x_1)\n",
    "    print(l.block.x_1)\n",
    "    y_1 = int(l.block.y_1)\n",
    "    x_2 = int(l.block.x_2)\n",
    "    y_2 = int(l.block.y_2)\n",
    "    \n",
    "    break"
   ]
  },
  {
   "cell_type": "code",
   "execution_count": 12,
   "metadata": {},
   "outputs": [
    {
     "name": "stdout",
     "output_type": "stream",
     "text": [
      "79 1366 1578 2160\n"
     ]
    }
   ],
   "source": [
    "print(x_1,y_1,x_2,y_2)"
   ]
  },
  {
   "cell_type": "code",
   "execution_count": 13,
   "metadata": {},
   "outputs": [
    {
     "data": {
      "text/plain": [
       "True"
      ]
     },
     "execution_count": 13,
     "metadata": {},
     "output_type": "execute_result"
    }
   ],
   "source": [
    "cv2.imwrite('table.jpg', image[y_1:y_2,x_1:x_2])"
   ]
  },
  {
   "cell_type": "markdown",
   "metadata": {},
   "source": [
    "#### detect text in tables"
   ]
  },
  {
   "cell_type": "code",
   "execution_count": 14,
   "metadata": {},
   "outputs": [],
   "source": [
    "from paddleocr import PaddleOCR, draw_ocr"
   ]
  },
  {
   "cell_type": "code",
   "execution_count": 19,
   "metadata": {},
   "outputs": [],
   "source": [
    "np.int = np.int32\n",
    "np.float = np.float64\n",
    "np.bool = np.bool_"
   ]
  },
  {
   "cell_type": "code",
   "execution_count": 32,
   "metadata": {},
   "outputs": [
    {
     "name": "stdout",
     "output_type": "stream",
     "text": [
      "[2024/03/01 10:32:48] ppocr DEBUG: Namespace(help='==SUPPRESS==', use_gpu=False, use_xpu=False, ir_optim=True, use_tensorrt=False, min_subgraph_size=15, shape_info_filename=None, precision='fp32', gpu_mem=500, image_dir=None, det_algorithm='DB', det_model_dir='C:\\\\Users\\\\nonsh/.paddleocr/whl\\\\det\\\\en\\\\en_PP-OCRv3_det_infer', det_limit_side_len=960, det_limit_type='max', det_db_thresh=0.3, det_db_box_thresh=0.6, det_db_unclip_ratio=1.5, max_batch_size=10, use_dilation=False, det_db_score_mode='fast', det_east_score_thresh=0.8, det_east_cover_thresh=0.1, det_east_nms_thresh=0.2, det_sast_score_thresh=0.5, det_sast_nms_thresh=0.2, det_sast_polygon=False, det_pse_thresh=0, det_pse_box_thresh=0.85, det_pse_min_area=16, det_pse_box_type='quad', det_pse_scale=1, scales=[8, 16, 32], alpha=1.0, beta=1.0, fourier_degree=5, det_fce_box_type='poly', rec_algorithm='SVTR_LCNet', rec_model_dir='C:\\\\Users\\\\nonsh/.paddleocr/whl\\\\rec\\\\en\\\\en_PP-OCRv3_rec_infer', rec_image_shape='3, 48, 320', rec_batch_num=6, max_text_length=25, rec_char_dict_path='c:\\\\Users\\\\nonsh\\\\anaconda3\\\\Lib\\\\site-packages\\\\paddleocr\\\\ppocr\\\\utils\\\\en_dict.txt', use_space_char=True, vis_font_path='./doc/fonts/simfang.ttf', drop_score=0.5, e2e_algorithm='PGNet', e2e_model_dir=None, e2e_limit_side_len=768, e2e_limit_type='max', e2e_pgnet_score_thresh=0.5, e2e_char_dict_path='./ppocr/utils/ic15_dict.txt', e2e_pgnet_valid_set='totaltext', e2e_pgnet_mode='fast', use_angle_cls=False, cls_model_dir='C:\\\\Users\\\\nonsh/.paddleocr/whl\\\\cls\\\\ch_ppocr_mobile_v2.0_cls_infer', cls_image_shape='3, 48, 192', label_list=['0', '180'], cls_batch_num=6, cls_thresh=0.9, enable_mkldnn=False, cpu_threads=10, use_pdserving=False, warmup=False, sr_model_dir=None, sr_image_shape='3, 32, 128', sr_batch_num=1, draw_img_save_dir='./inference_results', save_crop_res=False, crop_res_save_dir='./output', use_mp=False, total_process_num=1, process_id=0, benchmark=False, save_log_path='./log_output/', show_log=True, use_onnx=False, output='./output', table_max_len=488, table_algorithm='TableAttn', table_model_dir=None, merge_no_span_structure=True, table_char_dict_path=None, layout_model_dir=None, layout_dict_path=None, layout_score_threshold=0.5, layout_nms_threshold=0.5, kie_algorithm='LayoutXLM', ser_model_dir=None, ser_dict_path='../train_data/XFUND/class_list_xfun.txt', ocr_order_method=None, mode='structure', image_orientation=False, layout=True, table=True, ocr=True, recovery=False, save_pdf=False, lang='en', det=True, rec=True, type='ocr', ocr_version='PP-OCRv3', structure_version='PP-Structurev2')\n",
      "[2024/03/01 10:32:49] ppocr WARNING: Since the angle classifier is not initialized, the angle classifier will not be uesd during the forward process\n",
      "[2024/03/01 10:32:49] ppocr DEBUG: dt_boxes num : 61, elapse : 0.4785919189453125\n",
      "[2024/03/01 10:33:00] ppocr DEBUG: rec_res num  : 61, elapse : 10.077723503112793\n"
     ]
    }
   ],
   "source": [
    "ocr = PaddleOCR(lang='en')\n",
    "image_path = 'table.jpg'\n",
    "image_cv = cv2.imread(image_path)\n",
    "image_height = image_cv.shape[0]\n",
    "image_width = image_cv.shape[1]\n",
    "output = ocr.ocr(image_path)"
   ]
  },
  {
   "cell_type": "code",
   "execution_count": 33,
   "metadata": {},
   "outputs": [
    {
     "name": "stdout",
     "output_type": "stream",
     "text": [
      "[[[[162.0, 10.0], [252.0, 14.0], [250.0, 47.0], [160.0, 43.0]], ('Valeur', 0.998108446598053)], [[[37.0, 16.0], [103.0, 16.0], [103.0, 45.0], [37.0, 45.0]], ('Date', 0.9987195730209351)], [[[561.0, 17.0], [829.0, 17.0], [829.0, 43.0], [561.0, 43.0]], (\"Nature de l'operation\", 0.9390084147453308)], [[[1176.0, 14.0], [1251.0, 14.0], [1251.0, 43.0], [1176.0, 43.0]], ('Debit', 0.9974892735481262)], [[[1360.0, 16.0], [1443.0, 16.0], [1443.0, 43.0], [1360.0, 43.0]], ('Credit', 0.9953996539115906)], [[[693.0, 67.0], [1091.0, 67.0], [1091.0, 88.0], [693.0, 88.0]], ('SOLDE PRECEDENT AUXX/XX/XXXX', 0.9577488899230957)], [[[1382.0, 68.0], [1476.0, 68.0], [1476.0, 95.0], [1382.0, 95.0]], ('2 543,19', 0.9416338205337524)], [[[23.0, 115.0], [117.0, 115.0], [117.0, 141.0], [23.0, 141.0]], ('10/06/10', 0.999289870262146)], [[[161.0, 113.0], [253.0, 113.0], [253.0, 141.0], [161.0, 141.0]], ('10/06/10', 0.9994224905967712)], [[[298.0, 115.0], [526.0, 115.0], [526.0, 136.0], [298.0, 136.0]], ('VIR RECU7141686480', 0.9713674187660217)], [[[1402.0, 111.0], [1478.0, 115.0], [1476.0, 143.0], [1400.0, 139.0]], ('109,43', 0.9923892617225647)], [[[297.0, 146.0], [389.0, 146.0], [389.0, 167.0], [297.0, 167.0]], ('DESDEI', 0.9751538634300232)], [[[298.0, 175.0], [573.0, 175.0], [573.0, 197.0], [298.0, 197.0]], ('MOTIF8010230150949505', 0.9941373467445374)], [[[298.0, 206.0], [526.0, 206.0], [526.0, 226.0], [298.0, 226.0]], ('2SDEI028010230150', 0.985040545463562)], [[[22.0, 242.0], [117.0, 242.0], [117.0, 268.0], [22.0, 268.0]], ('10/06/10', 0.9988889694213867)], [[[161.0, 243.0], [255.0, 243.0], [255.0, 270.0], [161.0, 270.0]], ('10/06/10', 0.9991629123687744)], [[[298.0, 245.0], [717.0, 245.0], [717.0, 265.0], [298.0, 265.0]], ('CARTEX34030906CARREFOURMARKET', 0.9885385036468506)], [[[1223.0, 243.0], [1287.0, 243.0], [1287.0, 271.0], [1223.0, 271.0]], ('30,65', 0.9905269742012024)], [[[23.0, 287.0], [116.0, 287.0], [116.0, 309.0], [23.0, 309.0]], ('10/06/10', 0.9989619255065918)], [[[161.0, 288.0], [253.0, 288.0], [253.0, 310.0], [161.0, 310.0]], ('10/06/10', 0.9990816712379456)], [[[298.0, 287.0], [732.0, 287.0], [732.0, 307.0], [298.0, 307.0]], ('CARTEX3403 09/06 GRENIER GOURMAND', 0.9466462731361389)], [[[1224.0, 287.0], [1287.0, 287.0], [1287.0, 310.0], [1224.0, 310.0]], ('60,00', 0.9774785041809082)], [[[23.0, 324.0], [119.0, 324.0], [119.0, 350.0], [23.0, 350.0]], ('10/06/10', 0.9995759129524231)], [[[161.0, 324.0], [255.0, 324.0], [255.0, 350.0], [161.0, 350.0]], ('10/06/10', 0.9996143579483032)], [[[298.0, 326.0], [433.0, 326.0], [433.0, 347.0], [298.0, 347.0]], ('CHEQUE 458', 0.9606000781059265)], [[[1213.0, 322.0], [1289.0, 326.0], [1287.0, 354.0], [1211.0, 350.0]], ('150,00', 0.9917243123054504)], [[[23.0, 363.0], [117.0, 363.0], [117.0, 389.0], [23.0, 389.0]], ('10/06/10', 0.999289870262146)], [[[159.0, 363.0], [255.0, 363.0], [255.0, 389.0], [159.0, 389.0]], ('10/06/10', 0.9987311959266663)], [[[295.0, 362.0], [434.0, 358.0], [434.0, 384.0], [296.0, 388.0]], ('CHEQUE 459', 0.9618203043937683)], [[[1224.0, 361.0], [1288.0, 361.0], [1288.0, 389.0], [1224.0, 389.0]], ('70,00', 0.9887090921401978)], [[[23.0, 400.0], [117.0, 400.0], [117.0, 426.0], [23.0, 426.0]], ('10/06/10', 0.9991716146469116)], [[[159.0, 400.0], [255.0, 400.0], [255.0, 426.0], [159.0, 426.0]], ('10/06/10', 0.9987931251525879)], [[[298.0, 403.0], [717.0, 403.0], [717.0, 423.0], [298.0, 423.0]], ('CARTEX3403 0906CARREFOURMARKET', 0.9635331034660339)], [[[1223.0, 400.0], [1288.0, 400.0], [1288.0, 428.0], [1223.0, 428.0]], ('20,00', 0.9920986890792847)], [[[25.0, 442.0], [116.0, 442.0], [116.0, 464.0], [25.0, 464.0]], ('10/06/10', 0.9990003705024719)], [[[161.0, 442.0], [253.0, 442.0], [253.0, 464.0], [161.0, 464.0]], ('10/06/10', 0.9991629719734192)], [[[298.0, 439.0], [689.0, 439.0], [689.0, 461.0], [298.0, 461.0]], ('CARTEX3403 09/06 GIEDU SECBRON', 0.9458075165748596)], [[[1224.0, 442.0], [1287.0, 442.0], [1287.0, 465.0], [1224.0, 465.0]], ('25,00', 0.9751555323600769)], [[[23.0, 478.0], [117.0, 478.0], [117.0, 504.0], [23.0, 504.0]], ('10/06/10', 0.9992443323135376)], [[[161.0, 479.0], [253.0, 479.0], [253.0, 501.0], [161.0, 501.0]], ('10/06/10', 0.9989295601844788)], [[[298.0, 478.0], [433.0, 478.0], [433.0, 499.0], [298.0, 499.0]], ('CHEQUE 460', 0.9536043405532837)], [[[1224.0, 479.0], [1285.0, 479.0], [1285.0, 502.0], [1224.0, 502.0]], ('49,99', 0.9815176725387573)], [[[23.0, 516.0], [119.0, 516.0], [119.0, 543.0], [23.0, 543.0]], ('10/06/10', 0.9996645450592041)], [[[161.0, 516.0], [255.0, 516.0], [255.0, 543.0], [161.0, 543.0]], ('10/06/10', 0.9997349977493286)], [[[298.0, 518.0], [431.0, 518.0], [431.0, 540.0], [298.0, 540.0]], ('CHEQUE461', 0.9954116344451904)], [[[1223.0, 516.0], [1288.0, 516.0], [1288.0, 544.0], [1223.0, 544.0]], ('26,00', 0.9956808090209961)], [[[25.0, 557.0], [117.0, 557.0], [117.0, 578.0], [25.0, 578.0]], ('10/06/10', 0.9988093376159668)], [[[161.0, 557.0], [253.0, 557.0], [253.0, 578.0], [161.0, 578.0]], ('09/06/10', 0.9981871843338013)], [[[298.0, 555.0], [750.0, 555.0], [750.0, 577.0], [298.0, 577.0]], ('CARTEX3403 RETRAIT DAB SG 10/06 06H27', 0.9381999373435974)], [[[1224.0, 557.0], [1287.0, 557.0], [1287.0, 580.0], [1224.0, 580.0]], ('50,00', 0.9754155278205872)], [[[298.0, 586.0], [503.0, 586.0], [503.0, 608.0], [298.0, 608.0]], ('TREVOUX 00904623', 0.9822362065315247)], [[[25.0, 625.0], [117.0, 625.0], [117.0, 647.0], [25.0, 647.0]], ('10/06/10', 0.9990800619125366)], [[[162.0, 625.0], [253.0, 625.0], [253.0, 647.0], [162.0, 647.0]], ('10/06/10', 0.9989012479782104)], [[[298.0, 625.0], [433.0, 625.0], [433.0, 647.0], [298.0, 647.0]], ('CHEQUE 462', 0.9497233629226685)], [[[1227.0, 625.0], [1287.0, 625.0], [1287.0, 648.0], [1227.0, 648.0]], ('10,00', 0.9763141870498657)], [[[23.0, 662.0], [119.0, 662.0], [119.0, 689.0], [23.0, 689.0]], ('10/06/10', 0.9993953704833984)], [[[159.0, 664.0], [253.0, 664.0], [253.0, 685.0], [159.0, 685.0]], ('09/06/10', 0.9983985424041748)], [[[298.0, 662.0], [750.0, 662.0], [750.0, 684.0], [298.0, 684.0]], ('CARTE X3403 RETRAIT DAB SG 10/06 06H27', 0.9392910003662109)], [[[298.0, 693.0], [503.0, 693.0], [503.0, 715.0], [298.0, 715.0]], ('TREVOUX 00904623', 0.9840582609176636)], [[[2.0, 751.0], [1040.0, 751.0], [1040.0, 771.0], [2.0, 771.0]], (\"1Depuis l'etranger:(+33176773933-Tarif au 01/01/2011:0,34 TTC/min depuis une ligne fixe France Telecom,en France metropolitaine\", 0.9384242296218872)], [[[2.0, 771.0], [579.0, 771.0], [579.0, 791.0], [2.0, 791.0]], (\"Depuis un autre operateur en France ou a I'etranger, tarification selon l'operateur.\", 0.9304853081703186)]]\n"
     ]
    }
   ],
   "source": [
    "print(output)"
   ]
  },
  {
   "cell_type": "code",
   "execution_count": 34,
   "metadata": {},
   "outputs": [],
   "source": [
    "boxes = [line[0] for line in output]\n",
    "texts = [line[1][0] for line in output]\n",
    "probabilities = [line[1][1] for line in output]"
   ]
  },
  {
   "cell_type": "code",
   "execution_count": 35,
   "metadata": {},
   "outputs": [],
   "source": [
    "image_boxes = image_cv.copy()"
   ]
  },
  {
   "cell_type": "code",
   "execution_count": 36,
   "metadata": {},
   "outputs": [],
   "source": [
    "for box,text in zip(boxes,texts):\n",
    "  cv2.rectangle(image_boxes, (int(box[0][0]),int(box[0][1])), (int(box[2][0]),int(box[2][1])),(0,0,255),1)\n",
    "  cv2.putText(image_boxes, text,(int(box[0][0]),int(box[0][1])),cv2.FONT_HERSHEY_SIMPLEX,1,(222,0,0),1)"
   ]
  },
  {
   "cell_type": "code",
   "execution_count": 37,
   "metadata": {},
   "outputs": [
    {
     "data": {
      "text/plain": [
       "True"
      ]
     },
     "execution_count": 37,
     "metadata": {},
     "output_type": "execute_result"
    }
   ],
   "source": [
    "cv2.imwrite('detections.jpg', image_boxes)"
   ]
  },
  {
   "cell_type": "markdown",
   "metadata": {},
   "source": [
    "### define vertical and horizontal columns"
   ]
  },
  {
   "cell_type": "code",
   "execution_count": 38,
   "metadata": {},
   "outputs": [],
   "source": [
    "im = image_cv.copy()"
   ]
  },
  {
   "cell_type": "code",
   "execution_count": 39,
   "metadata": {},
   "outputs": [],
   "source": [
    "horiz_boxes = []\n",
    "vert_boxes = []\n",
    "\n",
    "for box in boxes:\n",
    "  x_h, x_v = 0,int(box[0][0])\n",
    "  y_h, y_v = int(box[0][1]),0\n",
    "  width_h,width_v = image_width, int(box[2][0]-box[0][0])\n",
    "  height_h,height_v = int(box[2][1]-box[0][1]),image_height\n",
    "\n",
    "  horiz_boxes.append([x_h,y_h,x_h+width_h,y_h+height_h])\n",
    "  vert_boxes.append([x_v,y_v,x_v+width_v,y_v+height_v])\n",
    "\n",
    "  cv2.rectangle(im,(x_h,y_h), (x_h+width_h,y_h+height_h),(0,0,255),1)\n",
    "  cv2.rectangle(im,(x_v,y_v), (x_v+width_v,y_v+height_v),(0,255,0),1)"
   ]
  },
  {
   "cell_type": "code",
   "execution_count": 40,
   "metadata": {},
   "outputs": [
    {
     "data": {
      "text/plain": [
       "True"
      ]
     },
     "execution_count": 40,
     "metadata": {},
     "output_type": "execute_result"
    }
   ],
   "source": [
    "cv2.imwrite('horiz_vert.jpg',im)"
   ]
  },
  {
   "cell_type": "code",
   "execution_count": 42,
   "metadata": {},
   "outputs": [
    {
     "name": "stderr",
     "output_type": "stream",
     "text": [
      "[2024-03-01 10:45:46,787] [ WARNING] module_wrapper.py:149 - From c:\\Users\\nonsh\\anaconda3\\Lib\\site-packages\\keras\\src\\losses.py:2976: The name tf.losses.sparse_softmax_cross_entropy is deprecated. Please use tf.compat.v1.losses.sparse_softmax_cross_entropy instead.\n",
      "\n"
     ]
    }
   ],
   "source": [
    "import tensorflow as tf"
   ]
  },
  {
   "cell_type": "code",
   "execution_count": 43,
   "metadata": {},
   "outputs": [],
   "source": [
    "horiz_out = tf.image.non_max_suppression(\n",
    "    horiz_boxes,\n",
    "    probabilities,\n",
    "    max_output_size = 1000,\n",
    "    iou_threshold=0.1,\n",
    "    score_threshold=float('-inf'),\n",
    "    name=None\n",
    ")"
   ]
  },
  {
   "cell_type": "code",
   "execution_count": 44,
   "metadata": {},
   "outputs": [
    {
     "name": "stdout",
     "output_type": "stream",
     "text": [
      "[ 1  5  8 11 12 13 15 19 23 26 30 35 38 43 46 50 51 55 58 59 60]\n"
     ]
    }
   ],
   "source": [
    "horiz_lines = np.sort(np.array(horiz_out))\n",
    "print(horiz_lines)"
   ]
  },
  {
   "cell_type": "code",
   "execution_count": 45,
   "metadata": {},
   "outputs": [],
   "source": [
    "im_nms = image_cv.copy()"
   ]
  },
  {
   "cell_type": "code",
   "execution_count": 46,
   "metadata": {},
   "outputs": [],
   "source": [
    "for val in horiz_lines:\n",
    "  cv2.rectangle(im_nms, (int(horiz_boxes[val][0]),int(horiz_boxes[val][1])), (int(horiz_boxes[val][2]),int(horiz_boxes[val][3])),(0,0,255),1)\n",
    "  "
   ]
  },
  {
   "cell_type": "code",
   "execution_count": 47,
   "metadata": {},
   "outputs": [
    {
     "data": {
      "text/plain": [
       "True"
      ]
     },
     "execution_count": 47,
     "metadata": {},
     "output_type": "execute_result"
    }
   ],
   "source": [
    "cv2.imwrite('im_nms.jpg',im_nms)"
   ]
  },
  {
   "cell_type": "markdown",
   "metadata": {},
   "source": [
    "### non max supression"
   ]
  },
  {
   "cell_type": "code",
   "execution_count": 48,
   "metadata": {},
   "outputs": [],
   "source": [
    "vert_out = tf.image.non_max_suppression(\n",
    "    vert_boxes,\n",
    "    probabilities,\n",
    "    max_output_size = 1000,\n",
    "    iou_threshold=0.1,\n",
    "    score_threshold=float('-inf'),\n",
    "    name=None\n",
    ")"
   ]
  },
  {
   "cell_type": "code",
   "execution_count": 49,
   "metadata": {},
   "outputs": [
    {
     "name": "stdout",
     "output_type": "stream",
     "text": [
      "tf.Tensor([43 42  3 44  4  5], shape=(6,), dtype=int32)\n"
     ]
    }
   ],
   "source": [
    "print(vert_out)"
   ]
  },
  {
   "cell_type": "code",
   "execution_count": 50,
   "metadata": {},
   "outputs": [
    {
     "name": "stdout",
     "output_type": "stream",
     "text": [
      "[ 3  4  5 42 43 44]\n"
     ]
    }
   ],
   "source": [
    "vert_lines = np.sort(np.array(vert_out))\n",
    "print(vert_lines)"
   ]
  },
  {
   "cell_type": "code",
   "execution_count": 51,
   "metadata": {},
   "outputs": [],
   "source": [
    "for val in vert_lines:\n",
    "  \n",
    "   cv2.rectangle(im_nms, (int(vert_boxes[val][0]),int(vert_boxes[val][1])), (int(vert_boxes[val][2]),int(vert_boxes[val][3])),(255,0,0),1)\n",
    "  "
   ]
  },
  {
   "cell_type": "code",
   "execution_count": 52,
   "metadata": {},
   "outputs": [
    {
     "data": {
      "text/plain": [
       "True"
      ]
     },
     "execution_count": 52,
     "metadata": {},
     "output_type": "execute_result"
    }
   ],
   "source": [
    "cv2.imwrite('im_nms.jpg',im_nms)"
   ]
  },
  {
   "cell_type": "markdown",
   "metadata": {},
   "source": [
    "### convert csv"
   ]
  },
  {
   "cell_type": "code",
   "execution_count": 53,
   "metadata": {},
   "outputs": [
    {
     "name": "stdout",
     "output_type": "stream",
     "text": [
      "(21, 6)\n",
      "[['', '', '', '', '', ''], ['', '', '', '', '', ''], ['', '', '', '', '', ''], ['', '', '', '', '', ''], ['', '', '', '', '', ''], ['', '', '', '', '', ''], ['', '', '', '', '', ''], ['', '', '', '', '', ''], ['', '', '', '', '', ''], ['', '', '', '', '', ''], ['', '', '', '', '', ''], ['', '', '', '', '', ''], ['', '', '', '', '', ''], ['', '', '', '', '', ''], ['', '', '', '', '', ''], ['', '', '', '', '', ''], ['', '', '', '', '', ''], ['', '', '', '', '', ''], ['', '', '', '', '', ''], ['', '', '', '', '', ''], ['', '', '', '', '', '']]\n"
     ]
    }
   ],
   "source": [
    "out_array = [[\"\" for i in range(len(vert_lines))] for j in range(len(horiz_lines))]\n",
    "print(np.array(out_array).shape)\n",
    "print(out_array)"
   ]
  },
  {
   "cell_type": "code",
   "execution_count": 54,
   "metadata": {},
   "outputs": [
    {
     "name": "stdout",
     "output_type": "stream",
     "text": [
      "[1176, 0, 1251, 794]\n",
      "[1360, 0, 1443, 794]\n",
      "[693, 0, 1091, 794]\n",
      "[23, 0, 119, 794]\n",
      "[161, 0, 255, 794]\n",
      "[298, 0, 431, 794]\n"
     ]
    }
   ],
   "source": [
    "\n",
    "unordered_boxes = []\n",
    "\n",
    "for i in vert_lines:\n",
    "  print(vert_boxes[i])\n",
    "  unordered_boxes.append(vert_boxes[i][0])"
   ]
  },
  {
   "cell_type": "code",
   "execution_count": 55,
   "metadata": {},
   "outputs": [
    {
     "name": "stdout",
     "output_type": "stream",
     "text": [
      "[3 4 5 2 0 1]\n"
     ]
    }
   ],
   "source": [
    "ordered_boxes = np.argsort(unordered_boxes)\n",
    "print(ordered_boxes)"
   ]
  },
  {
   "cell_type": "code",
   "execution_count": 56,
   "metadata": {},
   "outputs": [],
   "source": [
    "def intersection(box_1, box_2):\n",
    "  return [box_2[0], box_1[1],box_2[2], box_1[3]]"
   ]
  },
  {
   "cell_type": "code",
   "execution_count": 57,
   "metadata": {},
   "outputs": [],
   "source": [
    "def iou(box_1, box_2):\n",
    "\n",
    "  x_1 = max(box_1[0], box_2[0])\n",
    "  y_1 = max(box_1[1], box_2[1])\n",
    "  x_2 = min(box_1[2], box_2[2])\n",
    "  y_2 = min(box_1[3], box_2[3])\n",
    "\n",
    "  inter = abs(max((x_2 - x_1, 0)) * max((y_2 - y_1), 0))\n",
    "  if inter == 0:\n",
    "      return 0\n",
    "      \n",
    "  box_1_area = abs((box_1[2] - box_1[0]) * (box_1[3] - box_1[1]))\n",
    "  box_2_area = abs((box_2[2] - box_2[0]) * (box_2[3] - box_2[1]))\n",
    "  \n",
    "  return inter / float(box_1_area + box_2_area - inter)"
   ]
  },
  {
   "cell_type": "code",
   "execution_count": 58,
   "metadata": {},
   "outputs": [],
   "source": [
    "for i in range(len(horiz_lines)):\n",
    "  for j in range(len(vert_lines)):\n",
    "    resultant = intersection(horiz_boxes[horiz_lines[i]], vert_boxes[vert_lines[ordered_boxes[j]]] )\n",
    "\n",
    "    for b in range(len(boxes)):\n",
    "      the_box = [boxes[b][0][0],boxes[b][0][1],boxes[b][2][0],boxes[b][2][1]]\n",
    "      if(iou(resultant,the_box)>0.1):\n",
    "        out_array[i][j] = texts[b]"
   ]
  },
  {
   "cell_type": "code",
   "execution_count": 59,
   "metadata": {},
   "outputs": [],
   "source": [
    "out_array=np.array(out_array)"
   ]
  },
  {
   "cell_type": "code",
   "execution_count": 60,
   "metadata": {},
   "outputs": [
    {
     "data": {
      "text/plain": [
       "array([['Date', 'Valeur', '', \"Nature de l'operation\", 'Debit', 'Credit'],\n",
       "       ['', '', '', 'SOLDE PRECEDENT AUXX/XX/XXXX', '', '2 543,19'],\n",
       "       ['10/06/10', '10/06/10', 'VIR RECU7141686480', '', '', '109,43'],\n",
       "       ['', '', 'DESDEI', '', '', ''],\n",
       "       ['', '', 'MOTIF8010230150949505', '', '', ''],\n",
       "       ['', '', '2SDEI028010230150', '', '', ''],\n",
       "       ['10/06/10', '10/06/10', 'CARTEX34030906CARREFOURMARKET', '',\n",
       "        '30,65', ''],\n",
       "       ['10/06/10', '10/06/10', 'CARTEX3403 09/06 GRENIER GOURMAND', '',\n",
       "        '60,00', ''],\n",
       "       ['10/06/10', '10/06/10', 'CHEQUE 458', '', '150,00', ''],\n",
       "       ['10/06/10', '10/06/10', 'CHEQUE 459', '', '70,00', ''],\n",
       "       ['10/06/10', '10/06/10', 'CARTEX3403 0906CARREFOURMARKET', '',\n",
       "        '20,00', ''],\n",
       "       ['10/06/10', '10/06/10', 'CARTEX3403 09/06 GIEDU SECBRON', '',\n",
       "        '25,00', ''],\n",
       "       ['10/06/10', '10/06/10', 'CHEQUE 460', '', '49,99', ''],\n",
       "       ['10/06/10', '10/06/10', 'CHEQUE461', '', '26,00', ''],\n",
       "       ['10/06/10', '09/06/10', 'CARTEX3403 RETRAIT DAB SG 10/06 06H27',\n",
       "        '', '50,00', ''],\n",
       "       ['', '', 'TREVOUX 00904623', '', '', ''],\n",
       "       ['10/06/10', '10/06/10', 'CHEQUE 462', '', '10,00', ''],\n",
       "       ['10/06/10', '09/06/10', 'CARTE X3403 RETRAIT DAB SG 10/06 06H27',\n",
       "        '', '', ''],\n",
       "       ['', '', 'TREVOUX 00904623', '', '', ''],\n",
       "       ['', '',\n",
       "        \"1Depuis l'etranger:(+33176773933-Tarif au 01/01/2011:0,34 TTC/min depuis une ligne fixe France Telecom,en France metropolitaine\",\n",
       "        \"1Depuis l'etranger:(+33176773933-Tarif au 01/01/2011:0,34 TTC/min depuis une ligne fixe France Telecom,en France metropolitaine\",\n",
       "        '', ''],\n",
       "       [\"Depuis un autre operateur en France ou a I'etranger, tarification selon l'operateur.\",\n",
       "        \"Depuis un autre operateur en France ou a I'etranger, tarification selon l'operateur.\",\n",
       "        \"Depuis un autre operateur en France ou a I'etranger, tarification selon l'operateur.\",\n",
       "        '', '', '']], dtype='<U127')"
      ]
     },
     "execution_count": 60,
     "metadata": {},
     "output_type": "execute_result"
    }
   ],
   "source": [
    "out_array"
   ]
  },
  {
   "cell_type": "code",
   "execution_count": 62,
   "metadata": {},
   "outputs": [],
   "source": [
    "import pandas as pd"
   ]
  },
  {
   "cell_type": "code",
   "execution_count": 63,
   "metadata": {},
   "outputs": [],
   "source": [
    "pd.DataFrame(out_array).to_csv('sample.csv')"
   ]
  },
  {
   "cell_type": "markdown",
   "metadata": {},
   "source": [
    "### test docQuery Donuts"
   ]
  },
  {
   "cell_type": "code",
   "execution_count": 2,
   "metadata": {},
   "outputs": [],
   "source": [
    "import pytesseract\n",
    "pytesseract.pytesseract.tesseract_cmd = r'C:\\Program Files\\Tesseract-OCR\\tesseract'"
   ]
  },
  {
   "cell_type": "code",
   "execution_count": 3,
   "metadata": {},
   "outputs": [
    {
     "ename": "PDFInfoNotInstalledError",
     "evalue": "Unable to get page count. Is poppler installed and in PATH?",
     "output_type": "error",
     "traceback": [
      "\u001b[1;31m---------------------------------------------------------------------------\u001b[0m",
      "\u001b[1;31mFileNotFoundError\u001b[0m                         Traceback (most recent call last)",
      "File \u001b[1;32mc:\\Users\\nonsh\\anaconda3\\Lib\\site-packages\\pdf2image\\pdf2image.py:581\u001b[0m, in \u001b[0;36mpdfinfo_from_path\u001b[1;34m(pdf_path, userpw, ownerpw, poppler_path, rawdates, timeout, first_page, last_page)\u001b[0m\n\u001b[0;32m    580\u001b[0m     env[\u001b[38;5;124m\"\u001b[39m\u001b[38;5;124mLD_LIBRARY_PATH\u001b[39m\u001b[38;5;124m\"\u001b[39m] \u001b[38;5;241m=\u001b[39m poppler_path \u001b[38;5;241m+\u001b[39m \u001b[38;5;124m\"\u001b[39m\u001b[38;5;124m:\u001b[39m\u001b[38;5;124m\"\u001b[39m \u001b[38;5;241m+\u001b[39m env\u001b[38;5;241m.\u001b[39mget(\u001b[38;5;124m\"\u001b[39m\u001b[38;5;124mLD_LIBRARY_PATH\u001b[39m\u001b[38;5;124m\"\u001b[39m, \u001b[38;5;124m\"\u001b[39m\u001b[38;5;124m\"\u001b[39m)\n\u001b[1;32m--> 581\u001b[0m proc \u001b[38;5;241m=\u001b[39m Popen(command, env\u001b[38;5;241m=\u001b[39menv, stdout\u001b[38;5;241m=\u001b[39mPIPE, stderr\u001b[38;5;241m=\u001b[39mPIPE)\n\u001b[0;32m    583\u001b[0m \u001b[38;5;28;01mtry\u001b[39;00m:\n",
      "File \u001b[1;32mc:\\Users\\nonsh\\anaconda3\\Lib\\subprocess.py:1026\u001b[0m, in \u001b[0;36mPopen.__init__\u001b[1;34m(self, args, bufsize, executable, stdin, stdout, stderr, preexec_fn, close_fds, shell, cwd, env, universal_newlines, startupinfo, creationflags, restore_signals, start_new_session, pass_fds, user, group, extra_groups, encoding, errors, text, umask, pipesize, process_group)\u001b[0m\n\u001b[0;32m   1023\u001b[0m             \u001b[38;5;28mself\u001b[39m\u001b[38;5;241m.\u001b[39mstderr \u001b[38;5;241m=\u001b[39m io\u001b[38;5;241m.\u001b[39mTextIOWrapper(\u001b[38;5;28mself\u001b[39m\u001b[38;5;241m.\u001b[39mstderr,\n\u001b[0;32m   1024\u001b[0m                     encoding\u001b[38;5;241m=\u001b[39mencoding, errors\u001b[38;5;241m=\u001b[39merrors)\n\u001b[1;32m-> 1026\u001b[0m     \u001b[38;5;28mself\u001b[39m\u001b[38;5;241m.\u001b[39m_execute_child(args, executable, preexec_fn, close_fds,\n\u001b[0;32m   1027\u001b[0m                         pass_fds, cwd, env,\n\u001b[0;32m   1028\u001b[0m                         startupinfo, creationflags, shell,\n\u001b[0;32m   1029\u001b[0m                         p2cread, p2cwrite,\n\u001b[0;32m   1030\u001b[0m                         c2pread, c2pwrite,\n\u001b[0;32m   1031\u001b[0m                         errread, errwrite,\n\u001b[0;32m   1032\u001b[0m                         restore_signals,\n\u001b[0;32m   1033\u001b[0m                         gid, gids, uid, umask,\n\u001b[0;32m   1034\u001b[0m                         start_new_session, process_group)\n\u001b[0;32m   1035\u001b[0m \u001b[38;5;28;01mexcept\u001b[39;00m:\n\u001b[0;32m   1036\u001b[0m     \u001b[38;5;66;03m# Cleanup if the child failed starting.\u001b[39;00m\n",
      "File \u001b[1;32mc:\\Users\\nonsh\\anaconda3\\Lib\\subprocess.py:1538\u001b[0m, in \u001b[0;36mPopen._execute_child\u001b[1;34m(self, args, executable, preexec_fn, close_fds, pass_fds, cwd, env, startupinfo, creationflags, shell, p2cread, p2cwrite, c2pread, c2pwrite, errread, errwrite, unused_restore_signals, unused_gid, unused_gids, unused_uid, unused_umask, unused_start_new_session, unused_process_group)\u001b[0m\n\u001b[0;32m   1537\u001b[0m \u001b[38;5;28;01mtry\u001b[39;00m:\n\u001b[1;32m-> 1538\u001b[0m     hp, ht, pid, tid \u001b[38;5;241m=\u001b[39m _winapi\u001b[38;5;241m.\u001b[39mCreateProcess(executable, args,\n\u001b[0;32m   1539\u001b[0m                              \u001b[38;5;66;03m# no special security\u001b[39;00m\n\u001b[0;32m   1540\u001b[0m                              \u001b[38;5;28;01mNone\u001b[39;00m, \u001b[38;5;28;01mNone\u001b[39;00m,\n\u001b[0;32m   1541\u001b[0m                              \u001b[38;5;28mint\u001b[39m(\u001b[38;5;129;01mnot\u001b[39;00m close_fds),\n\u001b[0;32m   1542\u001b[0m                              creationflags,\n\u001b[0;32m   1543\u001b[0m                              env,\n\u001b[0;32m   1544\u001b[0m                              cwd,\n\u001b[0;32m   1545\u001b[0m                              startupinfo)\n\u001b[0;32m   1546\u001b[0m \u001b[38;5;28;01mfinally\u001b[39;00m:\n\u001b[0;32m   1547\u001b[0m     \u001b[38;5;66;03m# Child is launched. Close the parent's copy of those pipe\u001b[39;00m\n\u001b[0;32m   1548\u001b[0m     \u001b[38;5;66;03m# handles that only the child should have open.  You need\u001b[39;00m\n\u001b[1;32m   (...)\u001b[0m\n\u001b[0;32m   1551\u001b[0m     \u001b[38;5;66;03m# pipe will not close when the child process exits and the\u001b[39;00m\n\u001b[0;32m   1552\u001b[0m     \u001b[38;5;66;03m# ReadFile will hang.\u001b[39;00m\n",
      "\u001b[1;31mFileNotFoundError\u001b[0m: [WinError 2] The system cannot find the file specified",
      "\nDuring handling of the above exception, another exception occurred:\n",
      "\u001b[1;31mPDFInfoNotInstalledError\u001b[0m                  Traceback (most recent call last)",
      "Cell \u001b[1;32mIn[3], line 5\u001b[0m\n\u001b[0;32m      3\u001b[0m doc \u001b[38;5;241m=\u001b[39m document\u001b[38;5;241m.\u001b[39mload_document(\u001b[38;5;124m\"\u001b[39m\u001b[38;5;124mrelevedecompte.pdf\u001b[39m\u001b[38;5;124m\"\u001b[39m)\n\u001b[0;32m      4\u001b[0m \u001b[38;5;28;01mfor\u001b[39;00m q \u001b[38;5;129;01min\u001b[39;00m [\u001b[38;5;124m\"\u001b[39m\u001b[38;5;124mWhat is the Credits?\u001b[39m\u001b[38;5;124m\"\u001b[39m, \u001b[38;5;124m\"\u001b[39m\u001b[38;5;124mWhat is the Debits?\u001b[39m\u001b[38;5;124m\"\u001b[39m]:\n\u001b[1;32m----> 5\u001b[0m   \u001b[38;5;28mprint\u001b[39m(q, p(question\u001b[38;5;241m=\u001b[39mq, \u001b[38;5;241m*\u001b[39m\u001b[38;5;241m*\u001b[39mdoc\u001b[38;5;241m.\u001b[39mcontext))\n",
      "File \u001b[1;32mc:\\Users\\nonsh\\anaconda3\\Lib\\functools.py:1001\u001b[0m, in \u001b[0;36mcached_property.__get__\u001b[1;34m(self, instance, owner)\u001b[0m\n\u001b[0;32m    999\u001b[0m val \u001b[38;5;241m=\u001b[39m cache\u001b[38;5;241m.\u001b[39mget(\u001b[38;5;28mself\u001b[39m\u001b[38;5;241m.\u001b[39mattrname, _NOT_FOUND)\n\u001b[0;32m   1000\u001b[0m \u001b[38;5;28;01mif\u001b[39;00m val \u001b[38;5;129;01mis\u001b[39;00m _NOT_FOUND:\n\u001b[1;32m-> 1001\u001b[0m     val \u001b[38;5;241m=\u001b[39m \u001b[38;5;28mself\u001b[39m\u001b[38;5;241m.\u001b[39mfunc(instance)\n\u001b[0;32m   1002\u001b[0m     \u001b[38;5;28;01mtry\u001b[39;00m:\n\u001b[0;32m   1003\u001b[0m         cache[\u001b[38;5;28mself\u001b[39m\u001b[38;5;241m.\u001b[39mattrname] \u001b[38;5;241m=\u001b[39m val\n",
      "File \u001b[1;32mc:\\Users\\nonsh\\anaconda3\\Lib\\site-packages\\docquery\\document.py:117\u001b[0m, in \u001b[0;36mPDFDocument.context\u001b[1;34m(self)\u001b[0m\n\u001b[0;32m    114\u001b[0m \u001b[38;5;28;01mif\u001b[39;00m pdf \u001b[38;5;129;01mis\u001b[39;00m \u001b[38;5;28;01mNone\u001b[39;00m:\n\u001b[0;32m    115\u001b[0m     \u001b[38;5;28;01mreturn\u001b[39;00m {}\n\u001b[1;32m--> 117\u001b[0m images \u001b[38;5;241m=\u001b[39m \u001b[38;5;28mself\u001b[39m\u001b[38;5;241m.\u001b[39m_images\n\u001b[0;32m    119\u001b[0m \u001b[38;5;28;01mif\u001b[39;00m \u001b[38;5;28mlen\u001b[39m(images) \u001b[38;5;241m!=\u001b[39m \u001b[38;5;28mlen\u001b[39m(pdf\u001b[38;5;241m.\u001b[39mpages):\n\u001b[0;32m    120\u001b[0m     \u001b[38;5;28;01mraise\u001b[39;00m \u001b[38;5;167;01mValueError\u001b[39;00m(\n\u001b[0;32m    121\u001b[0m         \u001b[38;5;124mf\u001b[39m\u001b[38;5;124m\"\u001b[39m\u001b[38;5;124mMismatch: pdfplumber() thinks there are \u001b[39m\u001b[38;5;132;01m{\u001b[39;00m\u001b[38;5;28mlen\u001b[39m(pdf\u001b[38;5;241m.\u001b[39mpages)\u001b[38;5;132;01m}\u001b[39;00m\u001b[38;5;124m pages and\u001b[39m\u001b[38;5;124m\"\u001b[39m\n\u001b[0;32m    122\u001b[0m         \u001b[38;5;124mf\u001b[39m\u001b[38;5;124m\"\u001b[39m\u001b[38;5;124m pdf2image thinks there are \u001b[39m\u001b[38;5;132;01m{\u001b[39;00m\u001b[38;5;28mlen\u001b[39m(images)\u001b[38;5;132;01m}\u001b[39;00m\u001b[38;5;124m\"\u001b[39m\n\u001b[0;32m    123\u001b[0m     )\n",
      "File \u001b[1;32mc:\\Users\\nonsh\\anaconda3\\Lib\\functools.py:1001\u001b[0m, in \u001b[0;36mcached_property.__get__\u001b[1;34m(self, instance, owner)\u001b[0m\n\u001b[0;32m    999\u001b[0m val \u001b[38;5;241m=\u001b[39m cache\u001b[38;5;241m.\u001b[39mget(\u001b[38;5;28mself\u001b[39m\u001b[38;5;241m.\u001b[39mattrname, _NOT_FOUND)\n\u001b[0;32m   1000\u001b[0m \u001b[38;5;28;01mif\u001b[39;00m val \u001b[38;5;129;01mis\u001b[39;00m _NOT_FOUND:\n\u001b[1;32m-> 1001\u001b[0m     val \u001b[38;5;241m=\u001b[39m \u001b[38;5;28mself\u001b[39m\u001b[38;5;241m.\u001b[39mfunc(instance)\n\u001b[0;32m   1002\u001b[0m     \u001b[38;5;28;01mtry\u001b[39;00m:\n\u001b[0;32m   1003\u001b[0m         cache[\u001b[38;5;28mself\u001b[39m\u001b[38;5;241m.\u001b[39mattrname] \u001b[38;5;241m=\u001b[39m val\n",
      "File \u001b[1;32mc:\\Users\\nonsh\\anaconda3\\Lib\\site-packages\\docquery\\document.py:156\u001b[0m, in \u001b[0;36mPDFDocument._images\u001b[1;34m(self)\u001b[0m\n\u001b[0;32m    150\u001b[0m \u001b[38;5;129m@cached_property\u001b[39m\n\u001b[0;32m    151\u001b[0m \u001b[38;5;28;01mdef\u001b[39;00m \u001b[38;5;21m_images\u001b[39m(\u001b[38;5;28mself\u001b[39m):\n\u001b[0;32m    152\u001b[0m     \u001b[38;5;66;03m# First, try to extract text directly\u001b[39;00m\n\u001b[0;32m    153\u001b[0m     \u001b[38;5;66;03m# TODO: This library requires poppler, which is not present everywhere.\u001b[39;00m\n\u001b[0;32m    154\u001b[0m     \u001b[38;5;66;03m# We should look into alternatives. We could also gracefully handle this\u001b[39;00m\n\u001b[0;32m    155\u001b[0m     \u001b[38;5;66;03m# and simply fall back to _only_ extracted text\u001b[39;00m\n\u001b[1;32m--> 156\u001b[0m     \u001b[38;5;28;01mreturn\u001b[39;00m [x\u001b[38;5;241m.\u001b[39mconvert(\u001b[38;5;124m\"\u001b[39m\u001b[38;5;124mRGB\u001b[39m\u001b[38;5;124m\"\u001b[39m) \u001b[38;5;28;01mfor\u001b[39;00m x \u001b[38;5;129;01min\u001b[39;00m pdf2image\u001b[38;5;241m.\u001b[39mconvert_from_bytes(\u001b[38;5;28mself\u001b[39m\u001b[38;5;241m.\u001b[39mb)]\n",
      "File \u001b[1;32mc:\\Users\\nonsh\\anaconda3\\Lib\\site-packages\\pdf2image\\pdf2image.py:359\u001b[0m, in \u001b[0;36mconvert_from_bytes\u001b[1;34m(pdf_file, dpi, output_folder, first_page, last_page, fmt, jpegopt, thread_count, userpw, ownerpw, use_cropbox, strict, transparent, single_file, output_file, poppler_path, grayscale, size, paths_only, use_pdftocairo, timeout, hide_annotations)\u001b[0m\n\u001b[0;32m    357\u001b[0m         f\u001b[38;5;241m.\u001b[39mwrite(pdf_file)\n\u001b[0;32m    358\u001b[0m         f\u001b[38;5;241m.\u001b[39mflush()\n\u001b[1;32m--> 359\u001b[0m         \u001b[38;5;28;01mreturn\u001b[39;00m convert_from_path(\n\u001b[0;32m    360\u001b[0m             f\u001b[38;5;241m.\u001b[39mname,\n\u001b[0;32m    361\u001b[0m             dpi\u001b[38;5;241m=\u001b[39mdpi,\n\u001b[0;32m    362\u001b[0m             output_folder\u001b[38;5;241m=\u001b[39moutput_folder,\n\u001b[0;32m    363\u001b[0m             first_page\u001b[38;5;241m=\u001b[39mfirst_page,\n\u001b[0;32m    364\u001b[0m             last_page\u001b[38;5;241m=\u001b[39mlast_page,\n\u001b[0;32m    365\u001b[0m             fmt\u001b[38;5;241m=\u001b[39mfmt,\n\u001b[0;32m    366\u001b[0m             jpegopt\u001b[38;5;241m=\u001b[39mjpegopt,\n\u001b[0;32m    367\u001b[0m             thread_count\u001b[38;5;241m=\u001b[39mthread_count,\n\u001b[0;32m    368\u001b[0m             userpw\u001b[38;5;241m=\u001b[39muserpw,\n\u001b[0;32m    369\u001b[0m             ownerpw\u001b[38;5;241m=\u001b[39mownerpw,\n\u001b[0;32m    370\u001b[0m             use_cropbox\u001b[38;5;241m=\u001b[39muse_cropbox,\n\u001b[0;32m    371\u001b[0m             strict\u001b[38;5;241m=\u001b[39mstrict,\n\u001b[0;32m    372\u001b[0m             transparent\u001b[38;5;241m=\u001b[39mtransparent,\n\u001b[0;32m    373\u001b[0m             single_file\u001b[38;5;241m=\u001b[39msingle_file,\n\u001b[0;32m    374\u001b[0m             output_file\u001b[38;5;241m=\u001b[39moutput_file,\n\u001b[0;32m    375\u001b[0m             poppler_path\u001b[38;5;241m=\u001b[39mpoppler_path,\n\u001b[0;32m    376\u001b[0m             grayscale\u001b[38;5;241m=\u001b[39mgrayscale,\n\u001b[0;32m    377\u001b[0m             size\u001b[38;5;241m=\u001b[39msize,\n\u001b[0;32m    378\u001b[0m             paths_only\u001b[38;5;241m=\u001b[39mpaths_only,\n\u001b[0;32m    379\u001b[0m             use_pdftocairo\u001b[38;5;241m=\u001b[39muse_pdftocairo,\n\u001b[0;32m    380\u001b[0m             timeout\u001b[38;5;241m=\u001b[39mtimeout,\n\u001b[0;32m    381\u001b[0m             hide_annotations\u001b[38;5;241m=\u001b[39mhide_annotations,\n\u001b[0;32m    382\u001b[0m         )\n\u001b[0;32m    383\u001b[0m \u001b[38;5;28;01mfinally\u001b[39;00m:\n\u001b[0;32m    384\u001b[0m     os\u001b[38;5;241m.\u001b[39mclose(fh)\n",
      "File \u001b[1;32mc:\\Users\\nonsh\\anaconda3\\Lib\\site-packages\\pdf2image\\pdf2image.py:127\u001b[0m, in \u001b[0;36mconvert_from_path\u001b[1;34m(pdf_path, dpi, output_folder, first_page, last_page, fmt, jpegopt, thread_count, userpw, ownerpw, use_cropbox, strict, transparent, single_file, output_file, poppler_path, grayscale, size, paths_only, use_pdftocairo, timeout, hide_annotations)\u001b[0m\n\u001b[0;32m    124\u001b[0m \u001b[38;5;28;01mif\u001b[39;00m \u001b[38;5;28misinstance\u001b[39m(poppler_path, PurePath):\n\u001b[0;32m    125\u001b[0m     poppler_path \u001b[38;5;241m=\u001b[39m poppler_path\u001b[38;5;241m.\u001b[39mas_posix()\n\u001b[1;32m--> 127\u001b[0m page_count \u001b[38;5;241m=\u001b[39m pdfinfo_from_path(\n\u001b[0;32m    128\u001b[0m     pdf_path, userpw, ownerpw, poppler_path\u001b[38;5;241m=\u001b[39mpoppler_path\n\u001b[0;32m    129\u001b[0m )[\u001b[38;5;124m\"\u001b[39m\u001b[38;5;124mPages\u001b[39m\u001b[38;5;124m\"\u001b[39m]\n\u001b[0;32m    131\u001b[0m \u001b[38;5;66;03m# We start by getting the output format, the buffer processing function and if we need pdftocairo\u001b[39;00m\n\u001b[0;32m    132\u001b[0m parsed_fmt, final_extension, parse_buffer_func, use_pdfcairo_format \u001b[38;5;241m=\u001b[39m _parse_format(\n\u001b[0;32m    133\u001b[0m     fmt, grayscale\n\u001b[0;32m    134\u001b[0m )\n",
      "File \u001b[1;32mc:\\Users\\nonsh\\anaconda3\\Lib\\site-packages\\pdf2image\\pdf2image.py:607\u001b[0m, in \u001b[0;36mpdfinfo_from_path\u001b[1;34m(pdf_path, userpw, ownerpw, poppler_path, rawdates, timeout, first_page, last_page)\u001b[0m\n\u001b[0;32m    604\u001b[0m     \u001b[38;5;28;01mreturn\u001b[39;00m d\n\u001b[0;32m    606\u001b[0m \u001b[38;5;28;01mexcept\u001b[39;00m \u001b[38;5;167;01mOSError\u001b[39;00m:\n\u001b[1;32m--> 607\u001b[0m     \u001b[38;5;28;01mraise\u001b[39;00m PDFInfoNotInstalledError(\n\u001b[0;32m    608\u001b[0m         \u001b[38;5;124m\"\u001b[39m\u001b[38;5;124mUnable to get page count. Is poppler installed and in PATH?\u001b[39m\u001b[38;5;124m\"\u001b[39m\n\u001b[0;32m    609\u001b[0m     )\n\u001b[0;32m    610\u001b[0m \u001b[38;5;28;01mexcept\u001b[39;00m \u001b[38;5;167;01mValueError\u001b[39;00m:\n\u001b[0;32m    611\u001b[0m     \u001b[38;5;28;01mraise\u001b[39;00m PDFPageCountError(\n\u001b[0;32m    612\u001b[0m         \u001b[38;5;124mf\u001b[39m\u001b[38;5;124m\"\u001b[39m\u001b[38;5;124mUnable to get page count.\u001b[39m\u001b[38;5;130;01m\\n\u001b[39;00m\u001b[38;5;132;01m{\u001b[39;00merr\u001b[38;5;241m.\u001b[39mdecode(\u001b[38;5;124m'\u001b[39m\u001b[38;5;124mutf8\u001b[39m\u001b[38;5;124m'\u001b[39m,\u001b[38;5;250m \u001b[39m\u001b[38;5;124m'\u001b[39m\u001b[38;5;124mignore\u001b[39m\u001b[38;5;124m'\u001b[39m)\u001b[38;5;132;01m}\u001b[39;00m\u001b[38;5;124m\"\u001b[39m\n\u001b[0;32m    613\u001b[0m     )\n",
      "\u001b[1;31mPDFInfoNotInstalledError\u001b[0m: Unable to get page count. Is poppler installed and in PATH?"
     ]
    }
   ],
   "source": [
    "from docquery import document, pipeline\n",
    "p = pipeline('document-question-answering')\n",
    "doc = document.load_document(\"relevedecompte.pdf\")\n",
    "for q in [\"What is the Credits?\", \"What is the Debits?\"]:\n",
    "  print(q, p(question=q, **doc.context))"
   ]
  }
 ],
 "metadata": {
  "kernelspec": {
   "display_name": "pfe-env",
   "language": "python",
   "name": "python3"
  },
  "language_info": {
   "codemirror_mode": {
    "name": "ipython",
    "version": 3
   },
   "file_extension": ".py",
   "mimetype": "text/x-python",
   "name": "python",
   "nbconvert_exporter": "python",
   "pygments_lexer": "ipython3",
   "version": "0.0.0"
  }
 },
 "nbformat": 4,
 "nbformat_minor": 2
}
